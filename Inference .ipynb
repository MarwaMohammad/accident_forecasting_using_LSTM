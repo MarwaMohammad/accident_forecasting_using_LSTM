{
 "cells": [
  {
   "cell_type": "markdown",
   "id": "67489c39",
   "metadata": {},
   "source": [
    "# Forecasting"
   ]
  },
  {
   "cell_type": "code",
   "execution_count": 1,
   "id": "cc8b342a",
   "metadata": {},
   "outputs": [],
   "source": [
    "import warnings\n",
    "warnings.filterwarnings('ignore')\n",
    "import pickle\n",
    "\n",
    "#Preparing, cleaning, analyzing\n",
    "import pandas as pd\n",
    "import numpy as np\n"
   ]
  },
  {
   "cell_type": "markdown",
   "id": "84122474",
   "metadata": {},
   "source": [
    "## Data Preparation"
   ]
  },
  {
   "cell_type": "code",
   "execution_count": 2,
   "id": "d6f20c46",
   "metadata": {
    "scrolled": true
   },
   "outputs": [],
   "source": [
    "df = pd.read_csv('./data/Alko_Insg.csv', index_col='date')"
   ]
  },
  {
   "cell_type": "code",
   "execution_count": 3,
   "id": "1f3367f1",
   "metadata": {
    "scrolled": true
   },
   "outputs": [
    {
     "data": {
      "text/html": [
       "<div>\n",
       "<style scoped>\n",
       "    .dataframe tbody tr th:only-of-type {\n",
       "        vertical-align: middle;\n",
       "    }\n",
       "\n",
       "    .dataframe tbody tr th {\n",
       "        vertical-align: top;\n",
       "    }\n",
       "\n",
       "    .dataframe thead th {\n",
       "        text-align: right;\n",
       "    }\n",
       "</style>\n",
       "<table border=\"1\" class=\"dataframe\">\n",
       "  <thead>\n",
       "    <tr style=\"text-align: right;\">\n",
       "      <th></th>\n",
       "      <th>year</th>\n",
       "      <th>month</th>\n",
       "      <th>value</th>\n",
       "    </tr>\n",
       "    <tr>\n",
       "      <th>date</th>\n",
       "      <th></th>\n",
       "      <th></th>\n",
       "      <th></th>\n",
       "    </tr>\n",
       "  </thead>\n",
       "  <tbody>\n",
       "    <tr>\n",
       "      <th>2000-01-01</th>\n",
       "      <td>2000</td>\n",
       "      <td>1</td>\n",
       "      <td>78</td>\n",
       "    </tr>\n",
       "    <tr>\n",
       "      <th>2000-02-01</th>\n",
       "      <td>2000</td>\n",
       "      <td>2</td>\n",
       "      <td>53</td>\n",
       "    </tr>\n",
       "    <tr>\n",
       "      <th>2000-03-01</th>\n",
       "      <td>2000</td>\n",
       "      <td>3</td>\n",
       "      <td>73</td>\n",
       "    </tr>\n",
       "    <tr>\n",
       "      <th>2000-04-01</th>\n",
       "      <td>2000</td>\n",
       "      <td>4</td>\n",
       "      <td>78</td>\n",
       "    </tr>\n",
       "    <tr>\n",
       "      <th>2000-05-01</th>\n",
       "      <td>2000</td>\n",
       "      <td>5</td>\n",
       "      <td>96</td>\n",
       "    </tr>\n",
       "  </tbody>\n",
       "</table>\n",
       "</div>"
      ],
      "text/plain": [
       "            year  month  value\n",
       "date                          \n",
       "2000-01-01  2000      1     78\n",
       "2000-02-01  2000      2     53\n",
       "2000-03-01  2000      3     73\n",
       "2000-04-01  2000      4     78\n",
       "2000-05-01  2000      5     96"
      ]
     },
     "execution_count": 3,
     "metadata": {},
     "output_type": "execute_result"
    }
   ],
   "source": [
    "df.head()"
   ]
  },
  {
   "cell_type": "code",
   "execution_count": 10,
   "id": "1883cb6a",
   "metadata": {},
   "outputs": [],
   "source": [
    "#Model loading\n",
    "from tensorflow.keras.models import load_model\n",
    "model = load_model('best_model.h5')"
   ]
  },
  {
   "cell_type": "code",
   "execution_count": 11,
   "id": "543da675",
   "metadata": {},
   "outputs": [],
   "source": [
    "#Pickle scaler for features and value loading\n",
    "\n",
    "# Open the file in binary mode\n",
    "with open('./scalers/f_transformer.pkl', 'rb') as file: \n",
    "    # Call load method to deserialze\n",
    "    f_transformer = pickle.load(file)\n",
    "\n",
    "# Open the file in binary mode\n",
    "with open('./scalers/cnt_transformer.pkl', 'rb') as file: \n",
    "    # Call load method to deserialze\n",
    "    cnt_transformer = pickle.load(file)    \n",
    "    "
   ]
  },
  {
   "cell_type": "markdown",
   "id": "d568fdec",
   "metadata": {},
   "source": [
    "## Inference"
   ]
  },
  {
   "cell_type": "markdown",
   "id": "b91889a1",
   "metadata": {
    "scrolled": true
   },
   "source": [
    "df"
   ]
  },
  {
   "cell_type": "code",
   "execution_count": 12,
   "id": "9eac61f7",
   "metadata": {},
   "outputs": [],
   "source": [
    "def creat_ds(x,y, time_step=1):\n",
    "    #Create x series and y series to hold sequences\n",
    "    xs, ys = [], []\n",
    "    \n",
    "    for i in range(len(x) - time_step):\n",
    "        #Extract the sequence\n",
    "        v = x.iloc[i: (i+time_step)].to_numpy()\n",
    "        #append it into x series\n",
    "        xs.append(v)\n",
    "        \n",
    "        #Repeat all above for y series\n",
    "        ys.append(y.iloc[i+time_step])\n",
    "    return np.array(xs), np.array(ys)   \n"
   ]
  },
  {
   "cell_type": "code",
   "execution_count": 16,
   "id": "18923819",
   "metadata": {},
   "outputs": [],
   "source": [
    "Time_Step = 12\n",
    "import datetime\n",
    "\n",
    "\n",
    "def predict():\n",
    "    input_item= (2021,1)\n",
    "    f_columns = ['year', 'month']\n",
    "\n",
    "    input_df = pd.DataFrame()\n",
    "    (year, month) = input_item\n",
    "    input_date = datetime.datetime(year, month, 1)\n",
    "    df.index = pd.to_datetime(df.index)\n",
    "    input_df = df[df.index < input_date].tail(12)\n",
    "    input_df.loc[len(input_df.index)] = [year, month, 0]\n",
    "    input_df.rename(index={12:input_date},inplace=True)\n",
    "\n",
    "    #Scaling features\n",
    "    input_df.loc[:, f_columns] = f_transformer.transform(input_df[f_columns].to_numpy())\n",
    "    input_df['value'] = cnt_transformer.transform(input_df[['value']])\n",
    "\n",
    "        \n",
    "    xs_inf, ys_inf = creat_ds(input_df, input_df.value, time_step=Time_Step)\n",
    "    y_predict_inf = model.predict(xs_inf)\n",
    "    y_pred_inv = cnt_transformer.inverse_transform(y_predict_inf)\n",
    "    print('Pridicted Value ', np.ceil(y_pred_inv[0][0]))\n",
    "    if df[df.index==input_date].shape[0] !=0:\n",
    "        rea_value = df[df.index==input_date]\n",
    "        print('Real value ',rea_value.value[0])"
   ]
  },
  {
   "cell_type": "code",
   "execution_count": 17,
   "id": "b76a4138",
   "metadata": {},
   "outputs": [
    {
     "data": {
      "text/html": [
       "<div>\n",
       "<style scoped>\n",
       "    .dataframe tbody tr th:only-of-type {\n",
       "        vertical-align: middle;\n",
       "    }\n",
       "\n",
       "    .dataframe tbody tr th {\n",
       "        vertical-align: top;\n",
       "    }\n",
       "\n",
       "    .dataframe thead th {\n",
       "        text-align: right;\n",
       "    }\n",
       "</style>\n",
       "<table border=\"1\" class=\"dataframe\">\n",
       "  <thead>\n",
       "    <tr style=\"text-align: right;\">\n",
       "      <th></th>\n",
       "      <th>year</th>\n",
       "      <th>month</th>\n",
       "      <th>value</th>\n",
       "    </tr>\n",
       "    <tr>\n",
       "      <th>date</th>\n",
       "      <th></th>\n",
       "      <th></th>\n",
       "      <th></th>\n",
       "    </tr>\n",
       "  </thead>\n",
       "  <tbody>\n",
       "    <tr>\n",
       "      <th>2000-01-01</th>\n",
       "      <td>2000</td>\n",
       "      <td>1</td>\n",
       "      <td>78</td>\n",
       "    </tr>\n",
       "    <tr>\n",
       "      <th>2000-02-01</th>\n",
       "      <td>2000</td>\n",
       "      <td>2</td>\n",
       "      <td>53</td>\n",
       "    </tr>\n",
       "    <tr>\n",
       "      <th>2000-03-01</th>\n",
       "      <td>2000</td>\n",
       "      <td>3</td>\n",
       "      <td>73</td>\n",
       "    </tr>\n",
       "    <tr>\n",
       "      <th>2000-04-01</th>\n",
       "      <td>2000</td>\n",
       "      <td>4</td>\n",
       "      <td>78</td>\n",
       "    </tr>\n",
       "    <tr>\n",
       "      <th>2000-05-01</th>\n",
       "      <td>2000</td>\n",
       "      <td>5</td>\n",
       "      <td>96</td>\n",
       "    </tr>\n",
       "    <tr>\n",
       "      <th>...</th>\n",
       "      <td>...</td>\n",
       "      <td>...</td>\n",
       "      <td>...</td>\n",
       "    </tr>\n",
       "    <tr>\n",
       "      <th>2020-08-01</th>\n",
       "      <td>2020</td>\n",
       "      <td>8</td>\n",
       "      <td>46</td>\n",
       "    </tr>\n",
       "    <tr>\n",
       "      <th>2020-09-01</th>\n",
       "      <td>2020</td>\n",
       "      <td>9</td>\n",
       "      <td>46</td>\n",
       "    </tr>\n",
       "    <tr>\n",
       "      <th>2020-10-01</th>\n",
       "      <td>2020</td>\n",
       "      <td>10</td>\n",
       "      <td>34</td>\n",
       "    </tr>\n",
       "    <tr>\n",
       "      <th>2020-11-01</th>\n",
       "      <td>2020</td>\n",
       "      <td>11</td>\n",
       "      <td>23</td>\n",
       "    </tr>\n",
       "    <tr>\n",
       "      <th>2020-12-01</th>\n",
       "      <td>2020</td>\n",
       "      <td>12</td>\n",
       "      <td>13</td>\n",
       "    </tr>\n",
       "  </tbody>\n",
       "</table>\n",
       "<p>252 rows × 3 columns</p>\n",
       "</div>"
      ],
      "text/plain": [
       "            year  month  value\n",
       "date                          \n",
       "2000-01-01  2000      1     78\n",
       "2000-02-01  2000      2     53\n",
       "2000-03-01  2000      3     73\n",
       "2000-04-01  2000      4     78\n",
       "2000-05-01  2000      5     96\n",
       "...          ...    ...    ...\n",
       "2020-08-01  2020      8     46\n",
       "2020-09-01  2020      9     46\n",
       "2020-10-01  2020     10     34\n",
       "2020-11-01  2020     11     23\n",
       "2020-12-01  2020     12     13\n",
       "\n",
       "[252 rows x 3 columns]"
      ]
     },
     "execution_count": 17,
     "metadata": {},
     "output_type": "execute_result"
    }
   ],
   "source": [
    "df"
   ]
  },
  {
   "cell_type": "code",
   "execution_count": 18,
   "id": "c11f78f8",
   "metadata": {},
   "outputs": [
    {
     "name": "stdout",
     "output_type": "stream",
     "text": [
      "Pridicted Value  15.0\n"
     ]
    }
   ],
   "source": [
    "predict()"
   ]
  },
  {
   "cell_type": "code",
   "execution_count": null,
   "id": "4fa4d10a",
   "metadata": {},
   "outputs": [],
   "source": []
  }
 ],
 "metadata": {
  "kernelspec": {
   "display_name": "Python 3 (ipykernel)",
   "language": "python",
   "name": "python3"
  },
  "language_info": {
   "codemirror_mode": {
    "name": "ipython",
    "version": 3
   },
   "file_extension": ".py",
   "mimetype": "text/x-python",
   "name": "python",
   "nbconvert_exporter": "python",
   "pygments_lexer": "ipython3",
   "version": "3.9.5"
  }
 },
 "nbformat": 4,
 "nbformat_minor": 5
}
